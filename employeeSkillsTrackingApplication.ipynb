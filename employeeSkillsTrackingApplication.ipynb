{
 "cells": [
  {
   "cell_type": "markdown",
   "metadata": {},
   "source": [
    "# Log In Prompt for Skills Tracking Application"
   ]
  },
  {
   "cell_type": "code",
   "execution_count": null,
   "metadata": {},
   "outputs": [],
   "source": [
    "# import modules \n",
    "import sqlite3\n",
    "\n",
    "# Create empty strings for username and password\n",
    "username = \"\"\n",
    "password = \"\"\n",
    "\n",
    "def skills_db():\n",
    "    '''Create connection to Employees database\n",
    "    \n",
    "    Args:\n",
    "        None\n",
    "            '''\n",
    "    # create connection to Employees Database\n",
    "    conn = sqlite3.connect(\"employees.db\")"
   ]
  },
  {
   "cell_type": "code",
   "execution_count": null,
   "metadata": {},
   "outputs": [],
   "source": [
    "def log_in(username, password):\n",
    "    \n",
    "    '''Log in information required to access application\n",
    "    \n",
    "    Args:\n",
    "        username (str): Unique string ID used to log in.\n",
    "        password (str): String connected to specific username in order to access application\n",
    "        \n",
    "    Returns:\n",
    "        None\n",
    "        \n",
    "    Raises:\n",
    "         ValueError: If username and/or password are incorrect'''\n",
    "    \n",
    "    username = input('Please input username')\n",
    "    while username != \"username\":\n",
    "        raise ValueError(\"username input is incorrect, please enter correct username.\")\n",
    "    \n",
    "    password = input('Please input password')\n",
    "    while password != \"password\":\n",
    "        raise ValueError(\"password input is incorrect, please enter correct username.\")\n",
    "        \n",
    "log_in(\"Phil\", \"Hello@1\")"
   ]
  },
  {
   "cell_type": "code",
   "execution_count": 3,
   "metadata": {},
   "outputs": [
    {
     "ename": "IndexError",
     "evalue": "list index out of range",
     "output_type": "error",
     "traceback": [
      "\u001b[1;31m---------------------------------------------------------------------------\u001b[0m",
      "\u001b[1;31mIndexError\u001b[0m                                Traceback (most recent call last)",
      "\u001b[1;32m<ipython-input-3-05039d106987>\u001b[0m in \u001b[0;36m<module>\u001b[1;34m\u001b[0m\n\u001b[0;32m     32\u001b[0m     \u001b[1;32mreturn\u001b[0m \u001b[0memployee_list\u001b[0m\u001b[1;33m\u001b[0m\u001b[1;33m\u001b[0m\u001b[0m\n\u001b[0;32m     33\u001b[0m \u001b[1;33m\u001b[0m\u001b[0m\n\u001b[1;32m---> 34\u001b[1;33m \u001b[0mcreate_employee\u001b[0m\u001b[1;33m(\u001b[0m\u001b[1;33m)\u001b[0m\u001b[1;33m\u001b[0m\u001b[1;33m\u001b[0m\u001b[0m\n\u001b[0m",
      "\u001b[1;32m<ipython-input-3-05039d106987>\u001b[0m in \u001b[0;36mcreate_employee\u001b[1;34m(user_id)\u001b[0m\n\u001b[0;32m     13\u001b[0m          ValueError: User ID already exists, create a new ID'''\n\u001b[0;32m     14\u001b[0m     \u001b[1;32mwhile\u001b[0m \u001b[1;33m(\u001b[0m\u001b[1;32mTrue\u001b[0m\u001b[1;33m)\u001b[0m\u001b[1;33m:\u001b[0m\u001b[1;33m\u001b[0m\u001b[1;33m\u001b[0m\u001b[0m\n\u001b[1;32m---> 15\u001b[1;33m         \u001b[1;32mif\u001b[0m \u001b[0muser_id\u001b[0m \u001b[1;33m!=\u001b[0m \u001b[0memployee_list\u001b[0m\u001b[1;33m[\u001b[0m\u001b[1;36m0\u001b[0m\u001b[1;33m]\u001b[0m\u001b[1;33m:\u001b[0m                       \u001b[1;31m# error not generated\u001b[0m\u001b[1;33m\u001b[0m\u001b[1;33m\u001b[0m\u001b[0m\n\u001b[0m\u001b[0;32m     16\u001b[0m             \u001b[1;32mraise\u001b[0m \u001b[0mValueError\u001b[0m\u001b[1;33m(\u001b[0m\u001b[1;34m\"Invalid User ID, please enter valid User ID.\"\u001b[0m\u001b[1;33m)\u001b[0m\u001b[1;33m\u001b[0m\u001b[1;33m\u001b[0m\u001b[0m\n\u001b[0;32m     17\u001b[0m         \u001b[1;32melse\u001b[0m\u001b[1;33m:\u001b[0m\u001b[1;33m\u001b[0m\u001b[1;33m\u001b[0m\u001b[0m\n",
      "\u001b[1;31mIndexError\u001b[0m: list index out of range"
     ]
    }
   ],
   "source": [
    "add_employee = False\n",
    "employee_list = []\n",
    "\n",
    "def employee_id(user_id = \"\"):\n",
    "    '''Create an employee in the application\n",
    "    \n",
    "    Args:\n",
    "        user_id (str): Unique ID for each employee\n",
    "    Returns:\n",
    "        list[i] entry\n",
    "        \n",
    "    Raises:\n",
    "         ValueError: User ID already exists, create a new ID'''\n",
    "    while (True):\n",
    "        if user_id == False:                       # error not generated \n",
    "            raise ValueError(\"Invalid User ID, please enter valid User ID.\") \n",
    "        else:\n",
    "            user_id = input(\"Please enter user_id:\")\n",
    "            f_name = input(\"Please enter users first name: \")\n",
    "            l_name = input(\"Please enter users last name: \")\n",
    "            dept = input(\"Please enter users department: \")\n",
    "            skills = input(\"Please enter users skills: \")\n",
    "\n",
    "        employee_list.append({\"user_id\": int(user_id),\n",
    "                              \"first name\": f_name, \n",
    "                              \"last name\": l_name, \n",
    "                              \"department\": dept, \n",
    "                              \"skills\": skills})\n",
    "        proceed = input(\"would you like to add another employee? (Y/N)\")\n",
    "        if proceed == \"N\":\n",
    "            break;\n",
    "    return employee_list\n",
    "\n",
    "create_employee()"
   ]
  },
  {
   "cell_type": "code",
   "execution_count": null,
   "metadata": {},
   "outputs": [],
   "source": [
    "print(employee_list)"
   ]
  },
  {
   "cell_type": "code",
   "execution_count": null,
   "metadata": {},
   "outputs": [],
   "source": [
    "edit = False\n",
    "\n",
    "def edit_skills(user_id =employee_id):\n",
    "    '''Edit employee skills in the application\n",
    "    \n",
    "    Args:\n",
    "        user_id (str): Unique ID for each employee\n",
    "    Returns:\n",
    "        str'''\n",
    "    while (True):\n",
    "        employee_id = input(\"Please enter user_id:\")\n",
    "        new_skills = input(\"Please add skills to be updated:\")\n",
    "        \n",
    "        employee_list.append({\"skills\": new_skills})\n",
    "        \n",
    "        proceed = input(\"Would you like to edit another employee? (Y/N)\")\n",
    "        if proceed == \"N\":\n",
    "            break;\n",
    "            \n",
    "    return employee_list\n",
    "\n",
    "edit_skills()"
   ]
  }
 ],
 "metadata": {
  "kernelspec": {
   "display_name": "Python 3",
   "language": "python",
   "name": "python3"
  },
  "language_info": {
   "codemirror_mode": {
    "name": "ipython",
    "version": 3
   },
   "file_extension": ".py",
   "mimetype": "text/x-python",
   "name": "python",
   "nbconvert_exporter": "python",
   "pygments_lexer": "ipython3",
   "version": "3.8.5"
  }
 },
 "nbformat": 4,
 "nbformat_minor": 4
}
